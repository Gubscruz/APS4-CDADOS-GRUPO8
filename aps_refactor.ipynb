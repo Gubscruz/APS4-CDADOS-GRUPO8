{
 "cells": [
  {
   "cell_type": "code",
   "execution_count": 4,
   "metadata": {},
   "outputs": [],
   "source": [
    "import pandas as pd\n",
    "import matplotlib.pyplot as plt\n",
    "import scipy.stats as st"
   ]
  },
  {
   "cell_type": "code",
   "execution_count": 5,
   "metadata": {},
   "outputs": [
    {
     "data": {
      "text/html": [
       "<div>\n",
       "<style scoped>\n",
       "    .dataframe tbody tr th:only-of-type {\n",
       "        vertical-align: middle;\n",
       "    }\n",
       "\n",
       "    .dataframe tbody tr th {\n",
       "        vertical-align: top;\n",
       "    }\n",
       "\n",
       "    .dataframe thead th {\n",
       "        text-align: right;\n",
       "    }\n",
       "</style>\n",
       "<table border=\"1\" class=\"dataframe\">\n",
       "  <thead>\n",
       "    <tr style=\"text-align: right;\">\n",
       "      <th></th>\n",
       "      <th>transaction_id</th>\n",
       "      <th>price</th>\n",
       "      <th>date_of_transfer</th>\n",
       "      <th>type</th>\n",
       "      <th>old/new</th>\n",
       "      <th>duration</th>\n",
       "      <th>PPDCategory_Type</th>\n",
       "      <th>Record_Status - monthly_file_only</th>\n",
       "      <th>year</th>\n",
       "    </tr>\n",
       "  </thead>\n",
       "  <tbody>\n",
       "    <tr>\n",
       "      <th>0</th>\n",
       "      <td>{F887F88E-7D15-4415-804E-52EAC2F10958}</td>\n",
       "      <td>70000</td>\n",
       "      <td>1995-07-07</td>\n",
       "      <td>D</td>\n",
       "      <td>N</td>\n",
       "      <td>F</td>\n",
       "      <td>A</td>\n",
       "      <td>A</td>\n",
       "      <td>1995</td>\n",
       "    </tr>\n",
       "    <tr>\n",
       "      <th>1</th>\n",
       "      <td>{40FD4DF2-5362-407C-92BC-566E2CCE89E9}</td>\n",
       "      <td>44500</td>\n",
       "      <td>1995-02-03</td>\n",
       "      <td>T</td>\n",
       "      <td>N</td>\n",
       "      <td>F</td>\n",
       "      <td>A</td>\n",
       "      <td>A</td>\n",
       "      <td>1995</td>\n",
       "    </tr>\n",
       "    <tr>\n",
       "      <th>2</th>\n",
       "      <td>{7A99F89E-7D81-4E45-ABD5-566E49A045EA}</td>\n",
       "      <td>56500</td>\n",
       "      <td>1995-01-13</td>\n",
       "      <td>T</td>\n",
       "      <td>N</td>\n",
       "      <td>F</td>\n",
       "      <td>A</td>\n",
       "      <td>A</td>\n",
       "      <td>1995</td>\n",
       "    </tr>\n",
       "    <tr>\n",
       "      <th>3</th>\n",
       "      <td>{28225260-E61C-4E57-8B56-566E5285B1C1}</td>\n",
       "      <td>58000</td>\n",
       "      <td>1995-07-28</td>\n",
       "      <td>T</td>\n",
       "      <td>N</td>\n",
       "      <td>F</td>\n",
       "      <td>A</td>\n",
       "      <td>A</td>\n",
       "      <td>1995</td>\n",
       "    </tr>\n",
       "    <tr>\n",
       "      <th>4</th>\n",
       "      <td>{444D34D7-9BA6-43A7-B695-4F48980E0176}</td>\n",
       "      <td>51000</td>\n",
       "      <td>1995-06-28</td>\n",
       "      <td>S</td>\n",
       "      <td>N</td>\n",
       "      <td>F</td>\n",
       "      <td>A</td>\n",
       "      <td>A</td>\n",
       "      <td>1995</td>\n",
       "    </tr>\n",
       "  </tbody>\n",
       "</table>\n",
       "</div>"
      ],
      "text/plain": [
       "                           transaction_id  price date_of_transfer type  \\\n",
       "0  {F887F88E-7D15-4415-804E-52EAC2F10958}  70000       1995-07-07    D   \n",
       "1  {40FD4DF2-5362-407C-92BC-566E2CCE89E9}  44500       1995-02-03    T   \n",
       "2  {7A99F89E-7D81-4E45-ABD5-566E49A045EA}  56500       1995-01-13    T   \n",
       "3  {28225260-E61C-4E57-8B56-566E5285B1C1}  58000       1995-07-28    T   \n",
       "4  {444D34D7-9BA6-43A7-B695-4F48980E0176}  51000       1995-06-28    S   \n",
       "\n",
       "  old/new duration PPDCategory_Type Record_Status - monthly_file_only  year  \n",
       "0       N        F                A                                 A  1995  \n",
       "1       N        F                A                                 A  1995  \n",
       "2       N        F                A                                 A  1995  \n",
       "3       N        F                A                                 A  1995  \n",
       "4       N        F                A                                 A  1995  "
      ]
     },
     "execution_count": 5,
     "metadata": {},
     "output_type": "execute_result"
    }
   ],
   "source": [
    "df = pd.read_csv(filepath_or_buffer='uk_real_estate.csv',\n",
    "                 names=['transaction_id', 'price', 'date_of_transfer', 'postcode', 'type', 'old/new',\n",
    "                        'duration', 'PAON', 'SAON', 'Street', 'Locality', 'Town/City', 'District', \n",
    "                        'County', 'PPDCategory_Type','Record_Status - monthly_file_only'],\n",
    "                 parse_dates=['date_of_transfer']).drop(columns=['postcode', 'PAON', 'SAON', 'Street', 'Locality', 'Town/City', 'District', 'County'])\n",
    "\n",
    "df['year'] = df['date_of_transfer'].dt.year\n",
    "df.head()"
   ]
  },
  {
   "cell_type": "code",
   "execution_count": 6,
   "metadata": {},
   "outputs": [
    {
     "data": {
      "text/plain": [
       "year\n",
       "1995     90.969064\n",
       "1996    110.169064\n",
       "1997    124.913927\n",
       "1998    119.897945\n",
       "1999    136.379110\n",
       "2000    128.901027\n",
       "2001    142.196461\n",
       "2002    154.291781\n",
       "2003    141.009247\n",
       "2004    140.607534\n",
       "2005    121.148402\n",
       "2006    151.356050\n",
       "2007    145.220548\n",
       "2008     74.149429\n",
       "2009     71.370776\n",
       "2010     75.708562\n",
       "2011     75.471005\n",
       "2012     76.348059\n",
       "2013     92.565183\n",
       "2014    112.403995\n",
       "2015    115.344292\n",
       "2016    119.335274\n",
       "2017    121.671233\n",
       "2018    118.189726\n",
       "2019    115.042237\n",
       "2020    100.766781\n",
       "2021    139.288356\n",
       "2022     98.449886\n",
       "2023     14.714954\n",
       "Name: count, dtype: float64"
      ]
     },
     "execution_count": 6,
     "metadata": {},
     "output_type": "execute_result"
    }
   ],
   "source": [
    "years = df['year'].value_counts().sort_index()\n",
    "hourly_transactions = years / (365*24)\n",
    "hourly_transactions"
   ]
  },
  {
   "cell_type": "code",
   "execution_count": 7,
   "metadata": {},
   "outputs": [
    {
     "data": {
      "text/html": [
       "<div>\n",
       "<style scoped>\n",
       "    .dataframe tbody tr th:only-of-type {\n",
       "        vertical-align: middle;\n",
       "    }\n",
       "\n",
       "    .dataframe tbody tr th {\n",
       "        vertical-align: top;\n",
       "    }\n",
       "\n",
       "    .dataframe thead th {\n",
       "        text-align: right;\n",
       "    }\n",
       "</style>\n",
       "<table border=\"1\" class=\"dataframe\">\n",
       "  <thead>\n",
       "    <tr style=\"text-align: right;\">\n",
       "      <th>year</th>\n",
       "      <th>1995</th>\n",
       "      <th>1996</th>\n",
       "      <th>1997</th>\n",
       "      <th>1998</th>\n",
       "      <th>1999</th>\n",
       "      <th>2000</th>\n",
       "      <th>2001</th>\n",
       "      <th>2002</th>\n",
       "      <th>2003</th>\n",
       "      <th>2004</th>\n",
       "      <th>...</th>\n",
       "      <th>2014</th>\n",
       "      <th>2015</th>\n",
       "      <th>2016</th>\n",
       "      <th>2017</th>\n",
       "      <th>2018</th>\n",
       "      <th>2019</th>\n",
       "      <th>2020</th>\n",
       "      <th>2021</th>\n",
       "      <th>2022</th>\n",
       "      <th>2023</th>\n",
       "    </tr>\n",
       "  </thead>\n",
       "  <tbody>\n",
       "    <tr>\n",
       "      <th>count</th>\n",
       "      <td>90.969064</td>\n",
       "      <td>110.169064</td>\n",
       "      <td>124.913927</td>\n",
       "      <td>119.897945</td>\n",
       "      <td>136.37911</td>\n",
       "      <td>128.901027</td>\n",
       "      <td>142.196461</td>\n",
       "      <td>154.291781</td>\n",
       "      <td>141.009247</td>\n",
       "      <td>140.607534</td>\n",
       "      <td>...</td>\n",
       "      <td>112.403995</td>\n",
       "      <td>115.344292</td>\n",
       "      <td>119.335274</td>\n",
       "      <td>121.671233</td>\n",
       "      <td>118.189726</td>\n",
       "      <td>115.042237</td>\n",
       "      <td>100.766781</td>\n",
       "      <td>139.288356</td>\n",
       "      <td>98.449886</td>\n",
       "      <td>14.714954</td>\n",
       "    </tr>\n",
       "  </tbody>\n",
       "</table>\n",
       "<p>1 rows × 29 columns</p>\n",
       "</div>"
      ],
      "text/plain": [
       "year        1995        1996        1997        1998       1999        2000  \\\n",
       "count  90.969064  110.169064  124.913927  119.897945  136.37911  128.901027   \n",
       "\n",
       "year         2001        2002        2003        2004  ...        2014  \\\n",
       "count  142.196461  154.291781  141.009247  140.607534  ...  112.403995   \n",
       "\n",
       "year         2015        2016        2017        2018        2019        2020  \\\n",
       "count  115.344292  119.335274  121.671233  118.189726  115.042237  100.766781   \n",
       "\n",
       "year         2021       2022       2023  \n",
       "count  139.288356  98.449886  14.714954  \n",
       "\n",
       "[1 rows x 29 columns]"
      ]
     },
     "execution_count": 7,
     "metadata": {},
     "output_type": "execute_result"
    }
   ],
   "source": [
    "df_years = pd.DataFrame(hourly_transactions).transpose()\n",
    "df_years.head()"
   ]
  },
  {
   "cell_type": "code",
   "execution_count": 8,
   "metadata": {},
   "outputs": [
    {
     "data": {
      "image/png": "[encoded data removed]",
      "text/plain": [
       "<Figure size 640x480 with 1 Axes>"
      ]
     },
     "metadata": {},
     "output_type": "display_data"
    }
   ],
   "source": [
    "plt.bar(hourly_transactions.index, hourly_transactions.values)\n",
    "plt.xticks([value for value in hourly_transactions.index], rotation=70)\n",
    "plt.show()"
   ]
  },
  {
   "cell_type": "code",
   "execution_count": 9,
   "metadata": {},
   "outputs": [
    {
     "data": {
      "text/html": [
       "<div>\n",
       "<style scoped>\n",
       "    .dataframe tbody tr th:only-of-type {\n",
       "        vertical-align: middle;\n",
       "    }\n",
       "\n",
       "    .dataframe tbody tr th {\n",
       "        vertical-align: top;\n",
       "    }\n",
       "\n",
       "    .dataframe thead th {\n",
       "        text-align: right;\n",
       "    }\n",
       "</style>\n",
       "<table border=\"1\" class=\"dataframe\">\n",
       "  <thead>\n",
       "    <tr style=\"text-align: right;\">\n",
       "      <th>year</th>\n",
       "      <th>1995</th>\n",
       "      <th>1996</th>\n",
       "      <th>1997</th>\n",
       "      <th>1998</th>\n",
       "      <th>1999</th>\n",
       "      <th>2000</th>\n",
       "      <th>2001</th>\n",
       "      <th>2002</th>\n",
       "      <th>2003</th>\n",
       "      <th>2004</th>\n",
       "      <th>...</th>\n",
       "      <th>2014</th>\n",
       "      <th>2015</th>\n",
       "      <th>2016</th>\n",
       "      <th>2017</th>\n",
       "      <th>2018</th>\n",
       "      <th>2019</th>\n",
       "      <th>2020</th>\n",
       "      <th>2021</th>\n",
       "      <th>2022</th>\n",
       "      <th>2023</th>\n",
       "    </tr>\n",
       "  </thead>\n",
       "  <tbody>\n",
       "    <tr>\n",
       "      <th>count</th>\n",
       "      <td>90.969064</td>\n",
       "      <td>110.169064</td>\n",
       "      <td>124.913927</td>\n",
       "      <td>119.897945</td>\n",
       "      <td>136.37911</td>\n",
       "      <td>128.901027</td>\n",
       "      <td>142.196461</td>\n",
       "      <td>154.291781</td>\n",
       "      <td>141.009247</td>\n",
       "      <td>140.607534</td>\n",
       "      <td>...</td>\n",
       "      <td>112.403995</td>\n",
       "      <td>115.344292</td>\n",
       "      <td>119.335274</td>\n",
       "      <td>121.671233</td>\n",
       "      <td>118.189726</td>\n",
       "      <td>115.042237</td>\n",
       "      <td>100.766781</td>\n",
       "      <td>139.288356</td>\n",
       "      <td>98.449886</td>\n",
       "      <td>14.714954</td>\n",
       "    </tr>\n",
       "  </tbody>\n",
       "</table>\n",
       "<p>1 rows × 24 columns</p>\n",
       "</div>"
      ],
      "text/plain": [
       "year        1995        1996        1997        1998       1999        2000  \\\n",
       "count  90.969064  110.169064  124.913927  119.897945  136.37911  128.901027   \n",
       "\n",
       "year         2001        2002        2003        2004  ...        2014  \\\n",
       "count  142.196461  154.291781  141.009247  140.607534  ...  112.403995   \n",
       "\n",
       "year         2015        2016        2017        2018        2019        2020  \\\n",
       "count  115.344292  119.335274  121.671233  118.189726  115.042237  100.766781   \n",
       "\n",
       "year         2021       2022       2023  \n",
       "count  139.288356  98.449886  14.714954  \n",
       "\n",
       "[1 rows x 24 columns]"
      ]
     },
     "execution_count": 9,
     "metadata": {},
     "output_type": "execute_result"
    }
   ],
   "source": [
    "stable_years = ((df_years.columns.astype(int) < 2008) | (df_years.columns.astype(int) > 2012))\n",
    "df_stable = df_years.loc[:, stable_years]\n",
    "df_stable.head()"
   ]
  },
  {
   "cell_type": "code",
   "execution_count": 10,
   "metadata": {},
   "outputs": [
    {
     "data": {
      "text/html": [
       "<div>\n",
       "<style scoped>\n",
       "    .dataframe tbody tr th:only-of-type {\n",
       "        vertical-align: middle;\n",
       "    }\n",
       "\n",
       "    .dataframe tbody tr th {\n",
       "        vertical-align: top;\n",
       "    }\n",
       "\n",
       "    .dataframe thead th {\n",
       "        text-align: right;\n",
       "    }\n",
       "</style>\n",
       "<table border=\"1\" class=\"dataframe\">\n",
       "  <thead>\n",
       "    <tr style=\"text-align: right;\">\n",
       "      <th>year</th>\n",
       "      <th>2008</th>\n",
       "      <th>2009</th>\n",
       "      <th>2010</th>\n",
       "      <th>2011</th>\n",
       "      <th>2012</th>\n",
       "    </tr>\n",
       "  </thead>\n",
       "  <tbody>\n",
       "    <tr>\n",
       "      <th>count</th>\n",
       "      <td>74.149429</td>\n",
       "      <td>71.370776</td>\n",
       "      <td>75.708562</td>\n",
       "      <td>75.471005</td>\n",
       "      <td>76.348059</td>\n",
       "    </tr>\n",
       "  </tbody>\n",
       "</table>\n",
       "</div>"
      ],
      "text/plain": [
       "year        2008       2009       2010       2011       2012\n",
       "count  74.149429  71.370776  75.708562  75.471005  76.348059"
      ]
     },
     "execution_count": 10,
     "metadata": {},
     "output_type": "execute_result"
    }
   ],
   "source": [
    "crisis_years = df_years.columns.astype(int).isin([2008, 2009, 2010, 2011, 2012])\n",
    "df_crisis = df_years.loc[:, crisis_years]\n",
    "df_crisis.head()"
   ]
  },
  {
   "cell_type": "code",
   "execution_count": 11,
   "metadata": {},
   "outputs": [
    {
     "data": {
      "text/plain": [
       "(118.95133656773213, 74.60956621004566)"
      ]
     },
     "execution_count": 11,
     "metadata": {},
     "output_type": "execute_result"
    }
   ],
   "source": [
    "stable_mean = df_stable.mean(axis=1).values[0]\n",
    "crisis_mean = df_crisis.mean(axis=1).values[0]\n",
    "stable_mean, crisis_mean"
   ]
  },
  {
   "cell_type": "code",
   "execution_count": 12,
   "metadata": {},
   "outputs": [
    {
     "data": {
      "text/plain": [
       "6.40249824459907e-06"
      ]
     },
     "execution_count": 12,
     "metadata": {},
     "output_type": "execute_result"
    }
   ],
   "source": [
    "# null -> crisis_mean = stable_mean -> p_value >= alpha\n",
    "# alternative -> crisis_mean < stable_mean -> p_value < alpha\n",
    "\n",
    "p_value = st.poisson.cdf(crisis_mean, stable_mean)\n",
    "p_value"
   ]
  },
  {
   "cell_type": "code",
   "execution_count": null,
   "metadata": {},
   "outputs": [],
   "source": [
    "# alpha = 0.05\n",
    "# p_value < alpha -> reject null -> crisis_mean < stable_mean"
   ]
  }
 ],
 "metadata": {
  "kernelspec": {
   "display_name": "Python 3",
   "language": "python",
   "name": "python3"
  },
  "language_info": {
   "codemirror_mode": {
    "name": "ipython",
    "version": 3
   },
   "file_extension": ".py",
   "mimetype": "text/x-python",
   "name": "python",
   "nbconvert_exporter": "python",
   "pygments_lexer": "ipython3",
   "version": "3.11.5"
  }
 },
 "nbformat": 4,
 "nbformat_minor": 2
}
