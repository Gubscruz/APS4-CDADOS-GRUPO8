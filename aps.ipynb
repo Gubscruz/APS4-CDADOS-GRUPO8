{
 "cells": [
  {
   "cell_type": "code",
   "execution_count": 28,
   "metadata": {},
   "outputs": [],
   "source": [
    "import pandas as pd\n",
    "import matplotlib.pyplot as plt\n",
    "import scipy.stats as st"
   ]
  },
  {
   "cell_type": "code",
   "execution_count": 5,
   "metadata": {},
   "outputs": [
    {
     "data": {
      "text/html": [
       "<div>\n",
       "<style scoped>\n",
       "    .dataframe tbody tr th:only-of-type {\n",
       "        vertical-align: middle;\n",
       "    }\n",
       "\n",
       "    .dataframe tbody tr th {\n",
       "        vertical-align: top;\n",
       "    }\n",
       "\n",
       "    .dataframe thead th {\n",
       "        text-align: right;\n",
       "    }\n",
       "</style>\n",
       "<table border=\"1\" class=\"dataframe\">\n",
       "  <thead>\n",
       "    <tr style=\"text-align: right;\">\n",
       "      <th></th>\n",
       "      <th>transaction_id</th>\n",
       "      <th>price</th>\n",
       "      <th>date_of_transfer</th>\n",
       "      <th>type</th>\n",
       "      <th>old/new</th>\n",
       "      <th>duration</th>\n",
       "      <th>PPDCategory_Type</th>\n",
       "      <th>Record_Status - monthly_file_only</th>\n",
       "      <th>year</th>\n",
       "    </tr>\n",
       "  </thead>\n",
       "  <tbody>\n",
       "    <tr>\n",
       "      <th>0</th>\n",
       "      <td>{F887F88E-7D15-4415-804E-52EAC2F10958}</td>\n",
       "      <td>70000</td>\n",
       "      <td>1995-07-07</td>\n",
       "      <td>D</td>\n",
       "      <td>N</td>\n",
       "      <td>F</td>\n",
       "      <td>A</td>\n",
       "      <td>A</td>\n",
       "      <td>1995</td>\n",
       "    </tr>\n",
       "    <tr>\n",
       "      <th>1</th>\n",
       "      <td>{40FD4DF2-5362-407C-92BC-566E2CCE89E9}</td>\n",
       "      <td>44500</td>\n",
       "      <td>1995-02-03</td>\n",
       "      <td>T</td>\n",
       "      <td>N</td>\n",
       "      <td>F</td>\n",
       "      <td>A</td>\n",
       "      <td>A</td>\n",
       "      <td>1995</td>\n",
       "    </tr>\n",
       "    <tr>\n",
       "      <th>2</th>\n",
       "      <td>{7A99F89E-7D81-4E45-ABD5-566E49A045EA}</td>\n",
       "      <td>56500</td>\n",
       "      <td>1995-01-13</td>\n",
       "      <td>T</td>\n",
       "      <td>N</td>\n",
       "      <td>F</td>\n",
       "      <td>A</td>\n",
       "      <td>A</td>\n",
       "      <td>1995</td>\n",
       "    </tr>\n",
       "    <tr>\n",
       "      <th>3</th>\n",
       "      <td>{28225260-E61C-4E57-8B56-566E5285B1C1}</td>\n",
       "      <td>58000</td>\n",
       "      <td>1995-07-28</td>\n",
       "      <td>T</td>\n",
       "      <td>N</td>\n",
       "      <td>F</td>\n",
       "      <td>A</td>\n",
       "      <td>A</td>\n",
       "      <td>1995</td>\n",
       "    </tr>\n",
       "    <tr>\n",
       "      <th>4</th>\n",
       "      <td>{444D34D7-9BA6-43A7-B695-4F48980E0176}</td>\n",
       "      <td>51000</td>\n",
       "      <td>1995-06-28</td>\n",
       "      <td>S</td>\n",
       "      <td>N</td>\n",
       "      <td>F</td>\n",
       "      <td>A</td>\n",
       "      <td>A</td>\n",
       "      <td>1995</td>\n",
       "    </tr>\n",
       "  </tbody>\n",
       "</table>\n",
       "</div>"
      ],
      "text/plain": [
       "                           transaction_id  price date_of_transfer type  \\\n",
       "0  {F887F88E-7D15-4415-804E-52EAC2F10958}  70000       1995-07-07    D   \n",
       "1  {40FD4DF2-5362-407C-92BC-566E2CCE89E9}  44500       1995-02-03    T   \n",
       "2  {7A99F89E-7D81-4E45-ABD5-566E49A045EA}  56500       1995-01-13    T   \n",
       "3  {28225260-E61C-4E57-8B56-566E5285B1C1}  58000       1995-07-28    T   \n",
       "4  {444D34D7-9BA6-43A7-B695-4F48980E0176}  51000       1995-06-28    S   \n",
       "\n",
       "  old/new duration PPDCategory_Type Record_Status - monthly_file_only  year  \n",
       "0       N        F                A                                 A  1995  \n",
       "1       N        F                A                                 A  1995  \n",
       "2       N        F                A                                 A  1995  \n",
       "3       N        F                A                                 A  1995  \n",
       "4       N        F                A                                 A  1995  "
      ]
     },
     "execution_count": 5,
     "metadata": {},
     "output_type": "execute_result"
    }
   ],
   "source": [
    "df = pd.read_csv(filepath_or_buffer='uk_real_estate.csv',\n",
    "                 names=['transaction_id', 'price', 'date_of_transfer', 'postcode', 'type', 'old/new',\n",
    "                        'duration', 'PAON', 'SAON', 'Street', 'Locality', 'Town/City', 'District', \n",
    "                        'County', 'PPDCategory_Type','Record_Status - monthly_file_only'],\n",
    "                 parse_dates=['date_of_transfer']).drop(columns=['postcode', 'PAON', 'SAON', 'Street', 'Locality', 'Town/City', 'District', 'County'])\n",
    "\n",
    "df['year'] = df['date_of_transfer'].dt.year\n",
    "df.head()"
   ]
  },
  {
   "cell_type": "code",
   "execution_count": 6,
   "metadata": {},
   "outputs": [
    {
     "data": {
      "text/plain": [
       "year\n",
       "1995     796889\n",
       "1996     965081\n",
       "1997    1094246\n",
       "1998    1050306\n",
       "1999    1194681\n",
       "2000    1129173\n",
       "2001    1245641\n",
       "2002    1351596\n",
       "2003    1235241\n",
       "2004    1231722\n",
       "2005    1061260\n",
       "2006    1325879\n",
       "2007    1272132\n",
       "2008     649549\n",
       "2009     625208\n",
       "2010     663207\n",
       "2011     661126\n",
       "2012     668809\n",
       "2013     810871\n",
       "2014     984659\n",
       "2015    1010416\n",
       "2016    1045377\n",
       "2017    1065840\n",
       "2018    1035342\n",
       "2019    1007770\n",
       "2020     882717\n",
       "2021    1220166\n",
       "2022     862421\n",
       "2023     128903\n",
       "Name: count, dtype: int64"
      ]
     },
     "execution_count": 6,
     "metadata": {},
     "output_type": "execute_result"
    }
   ],
   "source": [
    "years = df['year'].value_counts().sort_index()\n",
    "years"
   ]
  },
  {
   "cell_type": "code",
   "execution_count": 66,
   "metadata": {},
   "outputs": [
    {
     "data": {
      "text/plain": [
       "year\n",
       "1995     90.969064\n",
       "1996    110.169064\n",
       "1997    124.913927\n",
       "1998    119.897945\n",
       "1999    136.379110\n",
       "2000    128.901027\n",
       "2001    142.196461\n",
       "2002    154.291781\n",
       "2003    141.009247\n",
       "2004    140.607534\n",
       "2005    121.148402\n",
       "2006    151.356050\n",
       "2007    145.220548\n",
       "2008     74.149429\n",
       "2009     71.370776\n",
       "2010     75.708562\n",
       "2011     75.471005\n",
       "2012     76.348059\n",
       "2013     92.565183\n",
       "2014    112.403995\n",
       "2015    115.344292\n",
       "2016    119.335274\n",
       "2017    121.671233\n",
       "2018    118.189726\n",
       "2019    115.042237\n",
       "2020    100.766781\n",
       "2021    139.288356\n",
       "2022     98.449886\n",
       "2023     14.714954\n",
       "Name: count, dtype: float64"
      ]
     },
     "execution_count": 66,
     "metadata": {},
     "output_type": "execute_result"
    }
   ],
   "source": [
    "hourly_transactions = years / (365*24)\n",
    "hourly_transactions"
   ]
  },
  {
   "cell_type": "code",
   "execution_count": 73,
   "metadata": {},
   "outputs": [
    {
     "data": {
      "text/html": [
       "<div>\n",
       "<style scoped>\n",
       "    .dataframe tbody tr th:only-of-type {\n",
       "        vertical-align: middle;\n",
       "    }\n",
       "\n",
       "    .dataframe tbody tr th {\n",
       "        vertical-align: top;\n",
       "    }\n",
       "\n",
       "    .dataframe thead th {\n",
       "        text-align: right;\n",
       "    }\n",
       "</style>\n",
       "<table border=\"1\" class=\"dataframe\">\n",
       "  <thead>\n",
       "    <tr style=\"text-align: right;\">\n",
       "      <th>year</th>\n",
       "      <th>1995</th>\n",
       "      <th>1996</th>\n",
       "      <th>1997</th>\n",
       "      <th>1998</th>\n",
       "      <th>1999</th>\n",
       "      <th>2000</th>\n",
       "      <th>2001</th>\n",
       "      <th>2002</th>\n",
       "      <th>2003</th>\n",
       "      <th>2004</th>\n",
       "      <th>...</th>\n",
       "      <th>2014</th>\n",
       "      <th>2015</th>\n",
       "      <th>2016</th>\n",
       "      <th>2017</th>\n",
       "      <th>2018</th>\n",
       "      <th>2019</th>\n",
       "      <th>2020</th>\n",
       "      <th>2021</th>\n",
       "      <th>2022</th>\n",
       "      <th>2023</th>\n",
       "    </tr>\n",
       "  </thead>\n",
       "  <tbody>\n",
       "    <tr>\n",
       "      <th>count</th>\n",
       "      <td>90.969064</td>\n",
       "      <td>110.169064</td>\n",
       "      <td>124.913927</td>\n",
       "      <td>119.897945</td>\n",
       "      <td>136.37911</td>\n",
       "      <td>128.901027</td>\n",
       "      <td>142.196461</td>\n",
       "      <td>154.291781</td>\n",
       "      <td>141.009247</td>\n",
       "      <td>140.607534</td>\n",
       "      <td>...</td>\n",
       "      <td>112.403995</td>\n",
       "      <td>115.344292</td>\n",
       "      <td>119.335274</td>\n",
       "      <td>121.671233</td>\n",
       "      <td>118.189726</td>\n",
       "      <td>115.042237</td>\n",
       "      <td>100.766781</td>\n",
       "      <td>139.288356</td>\n",
       "      <td>98.449886</td>\n",
       "      <td>14.714954</td>\n",
       "    </tr>\n",
       "  </tbody>\n",
       "</table>\n",
       "<p>1 rows × 29 columns</p>\n",
       "</div>"
      ],
      "text/plain": [
       "year        1995        1996        1997        1998       1999        2000  \\\n",
       "count  90.969064  110.169064  124.913927  119.897945  136.37911  128.901027   \n",
       "\n",
       "year         2001        2002        2003        2004  ...        2014  \\\n",
       "count  142.196461  154.291781  141.009247  140.607534  ...  112.403995   \n",
       "\n",
       "year         2015        2016        2017        2018        2019        2020  \\\n",
       "count  115.344292  119.335274  121.671233  118.189726  115.042237  100.766781   \n",
       "\n",
       "year         2021       2022       2023  \n",
       "count  139.288356  98.449886  14.714954  \n",
       "\n",
       "[1 rows x 29 columns]"
      ]
     },
     "execution_count": 73,
     "metadata": {},
     "output_type": "execute_result"
    }
   ],
   "source": [
    "df_hourly = pd.DataFrame(hourly_transactions).transpose()\n",
    "df_hourly.head()"
   ]
  },
  {
   "cell_type": "code",
   "execution_count": 74,
   "metadata": {},
   "outputs": [
    {
     "data": {
      "image/png": "[encoded data removed]",
      "text/plain": [
       "<Figure size 640x480 with 1 Axes>"
      ]
     },
     "metadata": {},
     "output_type": "display_data"
    }
   ],
   "source": [
    "plt.bar(hourly_transactions.index, hourly_transactions.values)\n",
    "plt.xticks([value for value in hourly_transactions.index], rotation=70)\n",
    "plt.show()"
   ]
  },
  {
   "cell_type": "code",
   "execution_count": 7,
   "metadata": {},
   "outputs": [
    {
     "data": {
      "image/png": "[encoded data removed]",
      "text/plain": [
       "<Figure size 640x480 with 1 Axes>"
      ]
     },
     "metadata": {},
     "output_type": "display_data"
    }
   ],
   "source": [
    "plt.bar(years.index, years.values)\n",
    "plt.xticks([value for value in years.index], rotation=70)\n",
    "plt.show()"
   ]
  },
  {
   "cell_type": "code",
   "execution_count": 8,
   "metadata": {},
   "outputs": [
    {
     "data": {
      "text/html": [
       "<div>\n",
       "<style scoped>\n",
       "    .dataframe tbody tr th:only-of-type {\n",
       "        vertical-align: middle;\n",
       "    }\n",
       "\n",
       "    .dataframe tbody tr th {\n",
       "        vertical-align: top;\n",
       "    }\n",
       "\n",
       "    .dataframe thead th {\n",
       "        text-align: right;\n",
       "    }\n",
       "</style>\n",
       "<table border=\"1\" class=\"dataframe\">\n",
       "  <thead>\n",
       "    <tr style=\"text-align: right;\">\n",
       "      <th>year</th>\n",
       "      <th>1995</th>\n",
       "      <th>1996</th>\n",
       "      <th>1997</th>\n",
       "      <th>1998</th>\n",
       "      <th>1999</th>\n",
       "      <th>2000</th>\n",
       "      <th>2001</th>\n",
       "      <th>2002</th>\n",
       "      <th>2003</th>\n",
       "      <th>2004</th>\n",
       "      <th>...</th>\n",
       "      <th>2014</th>\n",
       "      <th>2015</th>\n",
       "      <th>2016</th>\n",
       "      <th>2017</th>\n",
       "      <th>2018</th>\n",
       "      <th>2019</th>\n",
       "      <th>2020</th>\n",
       "      <th>2021</th>\n",
       "      <th>2022</th>\n",
       "      <th>2023</th>\n",
       "    </tr>\n",
       "  </thead>\n",
       "  <tbody>\n",
       "    <tr>\n",
       "      <th>count</th>\n",
       "      <td>796889</td>\n",
       "      <td>965081</td>\n",
       "      <td>1094246</td>\n",
       "      <td>1050306</td>\n",
       "      <td>1194681</td>\n",
       "      <td>1129173</td>\n",
       "      <td>1245641</td>\n",
       "      <td>1351596</td>\n",
       "      <td>1235241</td>\n",
       "      <td>1231722</td>\n",
       "      <td>...</td>\n",
       "      <td>984659</td>\n",
       "      <td>1010416</td>\n",
       "      <td>1045377</td>\n",
       "      <td>1065840</td>\n",
       "      <td>1035342</td>\n",
       "      <td>1007770</td>\n",
       "      <td>882717</td>\n",
       "      <td>1220166</td>\n",
       "      <td>862421</td>\n",
       "      <td>128903</td>\n",
       "    </tr>\n",
       "  </tbody>\n",
       "</table>\n",
       "<p>1 rows × 29 columns</p>\n",
       "</div>"
      ],
      "text/plain": [
       "year     1995    1996     1997     1998     1999     2000     2001     2002  \\\n",
       "count  796889  965081  1094246  1050306  1194681  1129173  1245641  1351596   \n",
       "\n",
       "year      2003     2004  ...    2014     2015     2016     2017     2018  \\\n",
       "count  1235241  1231722  ...  984659  1010416  1045377  1065840  1035342   \n",
       "\n",
       "year      2019    2020     2021    2022    2023  \n",
       "count  1007770  882717  1220166  862421  128903  \n",
       "\n",
       "[1 rows x 29 columns]"
      ]
     },
     "execution_count": 8,
     "metadata": {},
     "output_type": "execute_result"
    }
   ],
   "source": [
    "df_years = pd.DataFrame(years).transpose()\n",
    "df_years"
   ]
  },
  {
   "cell_type": "code",
   "execution_count": 30,
   "metadata": {},
   "outputs": [
    {
     "name": "stdout",
     "output_type": "stream",
     "text": [
      "Average sales per year before 2008 crisis: 1179746.5\n"
     ]
    },
    {
     "data": {
      "text/html": [
       "<div>\n",
       "<style scoped>\n",
       "    .dataframe tbody tr th:only-of-type {\n",
       "        vertical-align: middle;\n",
       "    }\n",
       "\n",
       "    .dataframe tbody tr th {\n",
       "        vertical-align: top;\n",
       "    }\n",
       "\n",
       "    .dataframe thead th {\n",
       "        text-align: right;\n",
       "    }\n",
       "</style>\n",
       "<table border=\"1\" class=\"dataframe\">\n",
       "  <thead>\n",
       "    <tr style=\"text-align: right;\">\n",
       "      <th>year</th>\n",
       "      <th>1996</th>\n",
       "      <th>1997</th>\n",
       "      <th>1998</th>\n",
       "      <th>1999</th>\n",
       "      <th>2000</th>\n",
       "      <th>2001</th>\n",
       "      <th>2002</th>\n",
       "      <th>2003</th>\n",
       "      <th>2004</th>\n",
       "      <th>2005</th>\n",
       "      <th>2006</th>\n",
       "      <th>2007</th>\n",
       "    </tr>\n",
       "  </thead>\n",
       "  <tbody>\n",
       "    <tr>\n",
       "      <th>count</th>\n",
       "      <td>965081</td>\n",
       "      <td>1094246</td>\n",
       "      <td>1050306</td>\n",
       "      <td>1194681</td>\n",
       "      <td>1129173</td>\n",
       "      <td>1245641</td>\n",
       "      <td>1351596</td>\n",
       "      <td>1235241</td>\n",
       "      <td>1231722</td>\n",
       "      <td>1061260</td>\n",
       "      <td>1325879</td>\n",
       "      <td>1272132</td>\n",
       "    </tr>\n",
       "  </tbody>\n",
       "</table>\n",
       "</div>"
      ],
      "text/plain": [
       "year     1996     1997     1998     1999     2000     2001     2002     2003  \\\n",
       "count  965081  1094246  1050306  1194681  1129173  1245641  1351596  1235241   \n",
       "\n",
       "year      2004     2005     2006     2007  \n",
       "count  1231722  1061260  1325879  1272132  "
      ]
     },
     "execution_count": 30,
     "metadata": {},
     "output_type": "execute_result"
    }
   ],
   "source": [
    "df_before_crisis = df_years.loc[:, (df_years.columns.astype(int) >= 1996) & (df_years.columns.astype(int) < 2008)]\n",
    "lambda_before = df_before_crisis.mean(axis=1).values[0]\n",
    "print(f'Average sales per year before 2008 crisis: {lambda_before}')\n",
    "df_before_crisis"
   ]
  },
  {
   "cell_type": "code",
   "execution_count": 31,
   "metadata": {},
   "outputs": [
    {
     "name": "stdout",
     "output_type": "stream",
     "text": [
      "Average sales per year during 2008 crisis: 653579.8\n"
     ]
    },
    {
     "data": {
      "text/html": [
       "<div>\n",
       "<style scoped>\n",
       "    .dataframe tbody tr th:only-of-type {\n",
       "        vertical-align: middle;\n",
       "    }\n",
       "\n",
       "    .dataframe tbody tr th {\n",
       "        vertical-align: top;\n",
       "    }\n",
       "\n",
       "    .dataframe thead th {\n",
       "        text-align: right;\n",
       "    }\n",
       "</style>\n",
       "<table border=\"1\" class=\"dataframe\">\n",
       "  <thead>\n",
       "    <tr style=\"text-align: right;\">\n",
       "      <th>year</th>\n",
       "      <th>2008</th>\n",
       "      <th>2009</th>\n",
       "      <th>2010</th>\n",
       "      <th>2011</th>\n",
       "      <th>2012</th>\n",
       "    </tr>\n",
       "  </thead>\n",
       "  <tbody>\n",
       "    <tr>\n",
       "      <th>count</th>\n",
       "      <td>649549</td>\n",
       "      <td>625208</td>\n",
       "      <td>663207</td>\n",
       "      <td>661126</td>\n",
       "      <td>668809</td>\n",
       "    </tr>\n",
       "  </tbody>\n",
       "</table>\n",
       "</div>"
      ],
      "text/plain": [
       "year     2008    2009    2010    2011    2012\n",
       "count  649549  625208  663207  661126  668809"
      ]
     },
     "execution_count": 31,
     "metadata": {},
     "output_type": "execute_result"
    }
   ],
   "source": [
    "df_crisis = df_years.loc[:, (df_years.columns.astype(int) >= 2008) & (df_years.columns.astype(int) <= 2012)]\n",
    "lambda_crisis = df_crisis.mean(axis=1).values[0]\n",
    "print(f'Average sales per year during 2008 crisis: {lambda_crisis}')\n",
    "df_crisis"
   ]
  },
  {
   "cell_type": "code",
   "execution_count": 54,
   "metadata": {},
   "outputs": [
    {
     "name": "stdout",
     "output_type": "stream",
     "text": [
      "Probability of observing 653579.8 or fewer sales given the pre-crisis rate: 0.0513\n",
      "Probability of observing exactly 653579.8 sales given the pre-crisis rate: 0.0000\n"
     ]
    }
   ],
   "source": [
    "n = 100000\n",
    "prob = st.poisson.cdf(lambda_crisis/n, lambda_before/n)\n",
    "\n",
    "# Compute the probability of observing exactly the crisis average using the pre-crisis rate\n",
    "exact_prob = st.poisson.pmf(lambda_crisis, lambda_before)\n",
    "\n",
    "print(f\"Probability of observing {lambda_crisis} or fewer sales given the pre-crisis rate: {prob:.4f}\")\n",
    "print(f\"Probability of observing exactly {lambda_crisis} sales given the pre-crisis rate: {exact_prob:.4f}\")"
   ]
  },
  {
   "cell_type": "code",
   "execution_count": 46,
   "metadata": {},
   "outputs": [
    {
     "data": {
      "image/png": "[encoded data removed]",
      "text/plain": [
       "<Figure size 640x480 with 1 Axes>"
      ]
     },
     "metadata": {},
     "output_type": "display_data"
    }
   ],
   "source": [
    "import numpy as np\n",
    "from scipy.stats import poisson\n",
    "import matplotlib.pyplot as plt\n",
    "\n",
    "lambda_before = 1179746.5\n",
    "\n",
    "# Values around the mean\n",
    "values = np.arange(lambda_before - 10000, lambda_before + 10000, 500)\n",
    "probs = [poisson.pmf(value, lambda_before) for value in values]\n",
    "\n",
    "plt.plot(values, probs, marker='o')\n",
    "plt.xlabel('Number of Sales')\n",
    "plt.ylabel('Probability')\n",
    "plt.title('Poisson PMF around the Mean')\n",
    "plt.show()"
   ]
  },
  {
   "cell_type": "code",
   "execution_count": 47,
   "metadata": {},
   "outputs": [
    {
     "name": "stdout",
     "output_type": "stream",
     "text": [
      "Value: 1169746.5, Probability: 0.0000000000\n",
      "Value: 1170246.5, Probability: 0.0000000000\n",
      "Value: 1170746.5, Probability: 0.0000000000\n",
      "Value: 1171246.5, Probability: 0.0000000000\n",
      "Value: 1171746.5, Probability: 0.0000000000\n",
      "Value: 1172246.5, Probability: 0.0000000000\n",
      "Value: 1172746.5, Probability: 0.0000000000\n",
      "Value: 1173246.5, Probability: 0.0000000000\n",
      "Value: 1173746.5, Probability: 0.0000000001\n",
      "Value: 1174246.5, Probability: 0.0000000010\n",
      "Value: 1174746.5, Probability: 0.0000000091\n",
      "Value: 1175246.5, Probability: 0.0000000682\n",
      "Value: 1175746.5, Probability: 0.0000004144\n",
      "Value: 1176246.5, Probability: 0.0000020355\n",
      "Value: 1176746.5, Probability: 0.0000080835\n",
      "Value: 1177246.5, Probability: 0.0000259580\n",
      "Value: 1177746.5, Probability: 0.0000674089\n",
      "Value: 1178246.5, Probability: 0.0001415714\n",
      "Value: 1178746.5, Probability: 0.0002404834\n",
      "Value: 1179246.5, Probability: 0.0003304346\n",
      "Value: 1179746.5, Probability: 0.0003672956\n",
      "Value: 1180246.5, Probability: 0.0003303045\n",
      "Value: 1180746.5, Probability: 0.0002403372\n",
      "Value: 1181246.5, Probability: 0.0001415058\n",
      "Value: 1181746.5, Probability: 0.0000674238\n",
      "Value: 1182246.5, Probability: 0.0000260002\n",
      "Value: 1182746.5, Probability: 0.0000081153\n",
      "Value: 1183246.5, Probability: 0.0000020504\n",
      "Value: 1183746.5, Probability: 0.0000004194\n",
      "Value: 1184246.5, Probability: 0.0000000694\n",
      "Value: 1184746.5, Probability: 0.0000000093\n",
      "Value: 1185246.5, Probability: 0.0000000010\n",
      "Value: 1185746.5, Probability: 0.0000000001\n",
      "Value: 1186246.5, Probability: 0.0000000000\n",
      "Value: 1186746.5, Probability: 0.0000000000\n",
      "Value: 1187246.5, Probability: 0.0000000000\n",
      "Value: 1187746.5, Probability: 0.0000000000\n",
      "Value: 1188246.5, Probability: 0.0000000000\n",
      "Value: 1188746.5, Probability: 0.0000000000\n",
      "Value: 1189246.5, Probability: 0.0000000000\n"
     ]
    }
   ],
   "source": [
    "import numpy as np\n",
    "from scipy.special import gammaln  # This provides log factorial\n",
    "\n",
    "def log_poisson_pmf(k, lambda_):\n",
    "    return k * np.log(lambda_) - lambda_ - gammaln(k + 1)\n",
    "\n",
    "lambda_before = 1179746.5\n",
    "values = np.arange(lambda_before - 10000, lambda_before + 10000, 500)\n",
    "log_probs = [log_poisson_pmf(value, lambda_before) for value in values]\n",
    "probs = np.exp(log_probs)\n",
    "\n",
    "for val, prob in zip(values, probs):\n",
    "    print(f\"Value: {val}, Probability: {prob:.10f}\")\n"
   ]
  },
  {
   "cell_type": "code",
   "execution_count": 10,
   "metadata": {},
   "outputs": [
    {
     "ename": "SyntaxError",
     "evalue": "incomplete input (2639085190.py, line 5)",
     "output_type": "error",
     "traceback": [
      "\u001b[0;36m  Cell \u001b[0;32mIn[10], line 5\u001b[0;36m\u001b[0m\n\u001b[0;31m    \u001b[0m\n\u001b[0m    ^\u001b[0m\n\u001b[0;31mSyntaxError\u001b[0m\u001b[0;31m:\u001b[0m incomplete input\n"
     ]
    }
   ],
   "source": [
    "for num in range(len(years.columns)//5):\n",
    "    grouper = 0\n",
    "    for period in range(0,6):\n",
    "        \n",
    "        "
   ]
  },
  {
   "cell_type": "code",
   "execution_count": null,
   "metadata": {},
   "outputs": [
    {
     "data": {
      "text/plain": [
       "997213"
      ]
     },
     "execution_count": 18,
     "metadata": {},
     "output_type": "execute_result"
    }
   ],
   "source": [
    "df['Date Recorded'] = pd.to_datetime(df['Date Recorded'])\n",
    "\n",
    "df['Year Recorded'] = df['Date Recorded'].dt.year\n",
    "df['Year Recorded'] = df['Year Recorded'].convert_dtypes(int)\n",
    "\n",
    "df['Month Recorded'] = df['Date Recorded'].dt.month\n",
    "df['Month Recorded'] = df['Month Recorded'].convert_dtypes(int)\n",
    "# df['Month Recorded'] = df['Date Recorded'].dt.month\n",
    "\n",
    "len(df)"
   ]
  },
  {
   "cell_type": "code",
   "execution_count": null,
   "metadata": {},
   "outputs": [
    {
     "data": {
      "text/plain": [
       "Year Recorded\n",
       "1999        1\n",
       "2001    14291\n",
       "2002    60207\n",
       "2003    56317\n",
       "2004    73943\n",
       "2005    79566\n",
       "2006    57250\n",
       "2007    46138\n",
       "2008    34195\n",
       "2009    36305\n",
       "2010    39128\n",
       "2011    32088\n",
       "2012    32568\n",
       "2013    37513\n",
       "2014    41941\n",
       "2015    48894\n",
       "2016    47611\n",
       "2017    48493\n",
       "2018    47165\n",
       "2019    52622\n",
       "2020    62534\n",
       "2021    48441\n",
       "Name: count, dtype: Int64"
      ]
     },
     "execution_count": 12,
     "metadata": {},
     "output_type": "execute_result"
    }
   ],
   "source": [
    "years = df['Year Recorded'].value_counts().sort_index()\n",
    "years"
   ]
  },
  {
   "cell_type": "code",
   "execution_count": null,
   "metadata": {},
   "outputs": [
    {
     "data": {
      "text/plain": [
       "count            12.0\n",
       "mean     83100.916667\n",
       "std       15349.62961\n",
       "min           55024.0\n",
       "25%          75228.25\n",
       "50%           84572.0\n",
       "75%           91370.5\n",
       "max          103461.0\n",
       "Name: count, dtype: Float64"
      ]
     },
     "execution_count": 16,
     "metadata": {},
     "output_type": "execute_result"
    }
   ],
   "source": [
    "months = df['Month Recorded'].value_counts().sort_index()\n",
    "months\n",
    "months.describe()"
   ]
  },
  {
   "cell_type": "code",
   "execution_count": null,
   "metadata": {},
   "outputs": [],
   "source": [
    "df.groupby(['column1', 'column2']).mean()\n"
   ]
  }
 ],
 "metadata": {
  "kernelspec": {
   "display_name": "Python 3",
   "language": "python",
   "name": "python3"
  },
  "language_info": {
   "codemirror_mode": {
    "name": "ipython",
    "version": 3
   },
   "file_extension": ".py",
   "mimetype": "text/x-python",
   "name": "python",
   "nbconvert_exporter": "python",
   "pygments_lexer": "ipython3",
   "version": "3.11.5"
  }
 },
 "nbformat": 4,
 "nbformat_minor": 2
}
